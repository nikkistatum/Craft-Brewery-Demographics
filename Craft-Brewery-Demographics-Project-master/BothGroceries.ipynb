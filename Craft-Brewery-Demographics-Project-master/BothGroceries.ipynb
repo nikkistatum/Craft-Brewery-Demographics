{
 "cells": [
  {
   "cell_type": "code",
   "execution_count": 1,
   "metadata": {},
   "outputs": [],
   "source": [
    "import pandas as pd\n",
    "import numpy as np\n",
    "import requests\n",
    "import json"
   ]
  },
  {
   "cell_type": "code",
   "execution_count": 2,
   "metadata": {},
   "outputs": [],
   "source": [
    "base_url = \"https://www.mapquestapi.com/search/v2/radius?origin=houston,+tx&radius=18&maxMatches=250&ambiguities=ignore&hostedData=mqap.ntpois|group_sic_code=?|541105&outFormat=json&key=\"\n",
    "apikey = 'nUGqYA2YWuf23HVKSDUqGv4VtOLwvA3F'\n",
    "url = base_url + apikey\n",
    "\n",
    "home_url = \"https://www.mapquestapi.com/search/v2/radius?origin=sanantonio,+tx&radius=18&maxMatches=250&ambiguities=ignore&hostedData=mqap.ntpois|group_sic_code=?|541105&outFormat=json&key=\"\n",
    "sananurl = home_url + apikey\n",
    "\n",
    "# run a request using our params dictionary\n",
    "response = requests.get(url).json()\n",
    "responses = requests.get(sananurl).json()"
   ]
  },
  {
   "cell_type": "markdown",
   "metadata": {},
   "source": [
    "### Houston DataFrame"
   ]
  },
  {
   "cell_type": "code",
   "execution_count": 3,
   "metadata": {},
   "outputs": [],
   "source": [
    "# convert response to json\n",
    "#name = response[\"searchResults\"][\"name\"]\n",
    "#address = response[\"searchResults\"][\"fields\"][\"address\"]\n",
    "#city =response[\"searchResults\"][\"fields\"][\"city\"]\n",
    "\n",
    "name_list = []\n",
    "address_list = []\n",
    "city_list = []\n",
    "h_lat = []\n",
    "h_lng = []\n",
    "\n",
    "for data in response[\"searchResults\"]:\n",
    "    name_list.append(data[\"name\"])\n",
    "    address_list.append(data[\"fields\"][\"address\"])\n",
    "    city_list.append(data[\"fields\"][\"city\"])\n",
    "    h_lat.append(data['shapePoints'][0])\n",
    "    h_lng.append(data['shapePoints'][1])\n",
    "\n",
    "# Print the json (pretty printed)\n",
    "# print(response.keys)\n",
    "# print(json.dumps(response, indent=4, sort_keys=True))\n",
    "# print(response['name'])"
   ]
  },
  {
   "cell_type": "code",
   "execution_count": 18,
   "metadata": {},
   "outputs": [],
   "source": [
    "grocerydf = pd.DataFrame({\n",
    "    \"Grocery Store\": name_list,\n",
    "    \"Address\": address_list,\n",
    "    \"City\": city_list,\n",
    "})\n",
    "\n",
    "grocerydf.head()\n",
    "grocerydf.to_csv('houston_groceries.csv')"
   ]
  },
  {
   "cell_type": "markdown",
   "metadata": {},
   "source": [
    "### San Antonio DataFrame"
   ]
  },
  {
   "cell_type": "code",
   "execution_count": 5,
   "metadata": {},
   "outputs": [],
   "source": [
    "naminglist = []\n",
    "addressing = []\n",
    "cities = []\n",
    "lat = []\n",
    "lng = []\n",
    "\n",
    "for data in responses[\"searchResults\"]:\n",
    "    try:\n",
    "        naminglist.append(data[\"name\"])\n",
    "        addressing.append(data[\"fields\"][\"address\"])\n",
    "        cities.append(data[\"fields\"][\"city\"])\n",
    "        lat.append(data['shapePoints'][0])\n",
    "        lng.append(data['shapePoints'][1])\n",
    "    except:\n",
    "        print('nope')\n",
    "    "
   ]
  },
  {
   "cell_type": "code",
   "execution_count": 19,
   "metadata": {},
   "outputs": [],
   "source": [
    "sanandf = pd.DataFrame({\n",
    "    \"Grocery Store\": naminglist,\n",
    "    \"Address\": addressing,\n",
    "    \"City\": cities\n",
    "})\n",
    "sanandf.head()\n",
    "sanandf.to_csv('san_antonio_groceries.csv')"
   ]
  },
  {
   "cell_type": "markdown",
   "metadata": {},
   "source": [
    "### Collabrative DataFrame"
   ]
  },
  {
   "cell_type": "code",
   "execution_count": 20,
   "metadata": {},
   "outputs": [],
   "source": [
    "texas_df = pd.DataFrame({\"Grocery Store\": naminglist,\n",
    "                        \"Address\": addressing,\n",
    "                        \"City\": cities,\n",
    "                        \"San An Lat\": lat,\n",
    "                        \"San An Lng\": lng,\n",
    "                        \"Grocery Store\": name_list,\n",
    "                        \"Address\": address_list,\n",
    "                        \"City\": city_list,\n",
    "                        \"Houston Lat\": h_lat,\n",
    "                        \"Houston Lng\": h_lng\n",
    "                        })\n",
    "texas_df.head()\n",
    "texas_df.to_csv('texas_groceries.csv')"
   ]
  },
  {
   "cell_type": "code",
   "execution_count": 8,
   "metadata": {},
   "outputs": [],
   "source": [
    "import plotly.plotly as py\n",
    "import plotly.figure_factory as ff\n",
    "import plotly.graph_objs as go\n",
    "import plotly\n",
    "\n",
    "plotly.tools.set_credentials_file(username='lamatinal', api_key='VPcrievjz9SJhSSmE5t4')\n",
    "mapbox_access_token = 'pk.eyJ1IjoibGFtYXRpbmFsIiwiYSI6ImNqa3BxMHk2aDFnbjEzcHA4M3Nhb2Z5N2cifQ.04a2NTZHdUn_KjhPo59zfw'"
   ]
  },
  {
   "cell_type": "code",
   "execution_count": 17,
   "metadata": {},
   "outputs": [
    {
     "data": {
      "text/html": [
       "<iframe id=\"igraph\" scrolling=\"no\" style=\"border:none;\" seamless=\"seamless\" src=\"https://plot.ly/~lamatinal/4.embed\" height=\"525px\" width=\"100%\"></iframe>"
      ],
      "text/plain": [
       "<plotly.tools.PlotlyDisplay object>"
      ]
     },
     "execution_count": 17,
     "metadata": {},
     "output_type": "execute_result"
    }
   ],
   "source": [
    "texas = [go.Scattermapbox(\n",
    "            lat=texas_df['San An Lat'], \n",
    "            lon=texas_df['San An Lng'],\n",
    "            mode='markers',\n",
    "            text=False,\n",
    "            marker=dict(\n",
    "                size=3,\n",
    "                color='rgb(0, 0, 128)',\n",
    "                opacity=0.5)\n",
    "            ),\n",
    "        go.Scattermapbox(lat=texas_df['Houston Lat'],\n",
    "            lon=texas_df['Houston Lng'],\n",
    "            mode='markers',\n",
    "            text=False,\n",
    "            marker=dict(\n",
    "                size=3,\n",
    "                color='rgb(128, 0, 0)',\n",
    "                opacity=0.5)\n",
    "            )\n",
    "       ]\n",
    "\n",
    "layout = go.Layout(title='Trial n Error Yall', \n",
    "                   autosize=True, \n",
    "                   hovermode='closest', \n",
    "                   showlegend=False,\n",
    "                   mapbox=dict(accesstoken=mapbox_access_token, bearing=0, center=dict(lat=29.4, lon=-96.7),\n",
    "                   pitch=0,\n",
    "                   zoom=7,\n",
    "                   style='light')\n",
    "                   )\n",
    "\n",
    "fig = dict(data=texas, layout=layout)\n",
    "py.iplot(fig, filename='Trial n Error Yall')"
   ]
  },
  {
   "cell_type": "code",
   "execution_count": 42,
   "metadata": {
    "collapsed": true
   },
   "outputs": [
    {
     "data": {
      "text/html": [
       "<iframe id=\"igraph\" scrolling=\"no\" style=\"border:none;\" seamless=\"seamless\" src=\"https://plot.ly/~lamatinal/6.embed\" height=\"525px\" width=\"100%\"></iframe>"
      ],
      "text/plain": [
       "<plotly.tools.PlotlyDisplay object>"
      ]
     },
     "execution_count": 42,
     "metadata": {},
     "output_type": "execute_result"
    }
   ],
   "source": [
    "texas_two = [go.Scattermapbox(lat=texas_df['Houston Lat'],\n",
    "                          lon=texas_df['Houston Lng'],\n",
    "                         mode='markers',\n",
    "                         text=False,\n",
    "                         marker=dict(size=8)\n",
    "                        )\n",
    "       ]\n",
    "\n",
    "layout = go.Layout(title='Trial n Error Dos', \n",
    "                   autosize=True, \n",
    "                   hovermode='closest', \n",
    "                   showlegend=False,\n",
    "                   mapbox=dict(accesstoken=mapbox_access_token, bearing=0, center=dict(lat=32, lon=100),\n",
    "                    pitch=0,\n",
    "                    zoom=3,\n",
    "                    style='light')\n",
    "                  )\n",
    "\n",
    "fig = dict(data=texas_two, layout=layout)\n",
    "py.iplot(fig, filename='Trial n Error Dos')"
   ]
  },
  {
   "cell_type": "code",
   "execution_count": null,
   "metadata": {},
   "outputs": [],
   "source": []
  }
 ],
 "metadata": {
  "kernelspec": {
   "display_name": "Python 3",
   "language": "python",
   "name": "python3"
  },
  "language_info": {
   "codemirror_mode": {
    "name": "ipython",
    "version": 3
   },
   "file_extension": ".py",
   "mimetype": "text/x-python",
   "name": "python",
   "nbconvert_exporter": "python",
   "pygments_lexer": "ipython3",
   "version": "3.6.4"
  }
 },
 "nbformat": 4,
 "nbformat_minor": 2
}
