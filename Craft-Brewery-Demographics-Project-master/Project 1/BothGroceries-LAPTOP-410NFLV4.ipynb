{
 "cells": [
  {
   "cell_type": "code",
   "execution_count": 16,
   "metadata": {},
   "outputs": [],
   "source": [
    "import pandas as pd\n",
    "import numpy as np\n",
    "import requests\n",
    "import json\n",
    "from config import apikey\n",
    "\n"
   ]
  },
  {
   "cell_type": "code",
   "execution_count": 28,
   "metadata": {},
   "outputs": [],
   "source": [
    "base_url = \"https://www.mapquestapi.com/search/v2/radius?origin=houston,+tx&radius=18&maxMatches=250&ambiguities=ignore&hostedData=mqap.ntpois|group_sic_code=?|541105&outFormat=json&key=\"\n",
    "    \n",
    "url = base_url + apikey\n",
    "\n",
    "home_url = \"https://www.mapquestapi.com/search/v2/radius?origin=sanantonio,+tx&radius=18&maxMatches=250&ambiguities=ignore&hostedData=mqap.ntpois|group_sic_code=?|541105&outFormat=json&key=\"\n",
    "sananurl = home_url + apikey\n",
    "\n",
    "\n",
    "# run a request using our params dictionary\n",
    "response = requests.get(url).json()\n",
    "responses = requests.get(sananurl).json()\n"
   ]
  },
  {
   "cell_type": "code",
   "execution_count": 25,
   "metadata": {},
   "outputs": [],
   "source": [
    "# convert response to json\n",
    "#name = response[\"searchResults\"][\"name\"]\n",
    "#address = response[\"searchResults\"][\"fields\"][\"address\"]\n",
    "#city =response[\"searchResults\"][\"fields\"][\"city\"]\n",
    "\n",
    "name_list = []\n",
    "address_list = []\n",
    "city_list = []\n",
    "\n",
    "\n",
    "for data in response[\"searchResults\"]:\n",
    "    name_list.append(data[\"name\"])\n",
    "    address_list.append(data[\"fields\"][\"address\"])\n",
    "    city_list.append(data[\"fields\"][\"city\"])\n",
    "    \n",
    "    \n",
    "    \n",
    "    \n",
    "    \n",
    "\n",
    "# Print the json (pretty printed)\n",
    "#print(response.keys)\n",
    "#print(json.dumps(response, indent=4, sort_keys=True))"
   ]
  },
  {
   "cell_type": "code",
   "execution_count": 34,
   "metadata": {},
   "outputs": [],
   "source": [
    "naminglist = []\n",
    "addressing = []\n",
    "cities = []\n",
    "\n",
    "for data in responses[\"searchResults\"]:\n",
    "    naminglist.append(data[\"name\"])\n",
    "    addressing.append(data[\"fields\"][\"address\"])\n",
    "    cities.append(data[\"fields\"][\"city\"])\n",
    "    "
   ]
  },
  {
   "cell_type": "code",
   "execution_count": 32,
   "metadata": {},
   "outputs": [
    {
     "data": {
      "text/html": [
       "<div>\n",
       "<style scoped>\n",
       "    .dataframe tbody tr th:only-of-type {\n",
       "        vertical-align: middle;\n",
       "    }\n",
       "\n",
       "    .dataframe tbody tr th {\n",
       "        vertical-align: top;\n",
       "    }\n",
       "\n",
       "    .dataframe thead th {\n",
       "        text-align: right;\n",
       "    }\n",
       "</style>\n",
       "<table border=\"1\" class=\"dataframe\">\n",
       "  <thead>\n",
       "    <tr style=\"text-align: right;\">\n",
       "      <th></th>\n",
       "      <th>Address</th>\n",
       "      <th>City</th>\n",
       "      <th>Grocery Store</th>\n",
       "    </tr>\n",
       "  </thead>\n",
       "  <tbody>\n",
       "    <tr>\n",
       "      <th>0</th>\n",
       "      <td>802 Milam St</td>\n",
       "      <td>Houston</td>\n",
       "      <td>Just Poppin Popcorn</td>\n",
       "    </tr>\n",
       "    <tr>\n",
       "      <th>1</th>\n",
       "      <td>1130 Travis St</td>\n",
       "      <td>Houston</td>\n",
       "      <td>Travis Food Store</td>\n",
       "    </tr>\n",
       "    <tr>\n",
       "      <th>2</th>\n",
       "      <td>914 Main St</td>\n",
       "      <td>Houston</td>\n",
       "      <td>Amogh Gelato Blue</td>\n",
       "    </tr>\n",
       "    <tr>\n",
       "      <th>3</th>\n",
       "      <td>930 Main St</td>\n",
       "      <td>Houston</td>\n",
       "      <td>Rico</td>\n",
       "    </tr>\n",
       "    <tr>\n",
       "      <th>4</th>\n",
       "      <td>1001 Texas St</td>\n",
       "      <td>Houston</td>\n",
       "      <td>Binz 1001 Texas Ave</td>\n",
       "    </tr>\n",
       "  </tbody>\n",
       "</table>\n",
       "</div>"
      ],
      "text/plain": [
       "          Address     City        Grocery Store\n",
       "0    802 Milam St  Houston  Just Poppin Popcorn\n",
       "1  1130 Travis St  Houston    Travis Food Store\n",
       "2     914 Main St  Houston    Amogh Gelato Blue\n",
       "3     930 Main St  Houston                 Rico\n",
       "4   1001 Texas St  Houston  Binz 1001 Texas Ave"
      ]
     },
     "execution_count": 32,
     "metadata": {},
     "output_type": "execute_result"
    }
   ],
   "source": [
    "grocerydf = pd.DataFrame({\n",
    "    \"Grocery Store\": name_list,\n",
    "    \"Address\": address_list,\n",
    "    \"City\": city_list\n",
    "})\n",
    "\n",
    "grocerydf.head()"
   ]
  },
  {
   "cell_type": "code",
   "execution_count": 35,
   "metadata": {},
   "outputs": [
    {
     "data": {
      "text/html": [
       "<div>\n",
       "<style scoped>\n",
       "    .dataframe tbody tr th:only-of-type {\n",
       "        vertical-align: middle;\n",
       "    }\n",
       "\n",
       "    .dataframe tbody tr th {\n",
       "        vertical-align: top;\n",
       "    }\n",
       "\n",
       "    .dataframe thead th {\n",
       "        text-align: right;\n",
       "    }\n",
       "</style>\n",
       "<table border=\"1\" class=\"dataframe\">\n",
       "  <thead>\n",
       "    <tr style=\"text-align: right;\">\n",
       "      <th></th>\n",
       "      <th>Address</th>\n",
       "      <th>City</th>\n",
       "      <th>Grocery Store</th>\n",
       "    </tr>\n",
       "  </thead>\n",
       "  <tbody>\n",
       "    <tr>\n",
       "      <th>0</th>\n",
       "      <td>119 E Commerce St</td>\n",
       "      <td>San Antonio</td>\n",
       "      <td>Lucky's Food Mart</td>\n",
       "    </tr>\n",
       "    <tr>\n",
       "      <th>1</th>\n",
       "      <td>139 E Commerce St</td>\n",
       "      <td>San Antonio</td>\n",
       "      <td>777 Food Mart</td>\n",
       "    </tr>\n",
       "    <tr>\n",
       "      <th>2</th>\n",
       "      <td>201 E Commerce St</td>\n",
       "      <td>San Antonio</td>\n",
       "      <td>Riodegelato</td>\n",
       "    </tr>\n",
       "    <tr>\n",
       "      <th>3</th>\n",
       "      <td>226 Dwyer Ave</td>\n",
       "      <td>San Antonio</td>\n",
       "      <td>Hippos</td>\n",
       "    </tr>\n",
       "    <tr>\n",
       "      <th>4</th>\n",
       "      <td>514 W Commerce St</td>\n",
       "      <td>San Antonio</td>\n",
       "      <td>Munchies</td>\n",
       "    </tr>\n",
       "  </tbody>\n",
       "</table>\n",
       "</div>"
      ],
      "text/plain": [
       "             Address         City      Grocery Store\n",
       "0  119 E Commerce St  San Antonio  Lucky's Food Mart\n",
       "1  139 E Commerce St  San Antonio      777 Food Mart\n",
       "2  201 E Commerce St  San Antonio        Riodegelato\n",
       "3      226 Dwyer Ave  San Antonio             Hippos\n",
       "4  514 W Commerce St  San Antonio           Munchies"
      ]
     },
     "execution_count": 35,
     "metadata": {},
     "output_type": "execute_result"
    }
   ],
   "source": [
    "sanandf = pd.DataFrame({\n",
    "    \"Grocery Store\": naminglist,\n",
    "    \"Address\": addressing,\n",
    "    \"City\": cities\n",
    "})\n",
    "sanandf.head()"
   ]
  },
  {
   "cell_type": "code",
   "execution_count": null,
   "metadata": {},
   "outputs": [],
   "source": []
  }
 ],
 "metadata": {
  "kernelspec": {
   "display_name": "Python 3",
   "language": "python",
   "name": "python3"
  },
  "language_info": {
   "codemirror_mode": {
    "name": "ipython",
    "version": 3
   },
   "file_extension": ".py",
   "mimetype": "text/x-python",
   "name": "python",
   "nbconvert_exporter": "python",
   "pygments_lexer": "ipython3",
   "version": "3.6.5"
  }
 },
 "nbformat": 4,
 "nbformat_minor": 2
}
