{
 "cells": [
  {
   "cell_type": "markdown",
   "metadata": {},
   "source": [
    "## Establish Dependencies and import files"
   ]
  },
  {
   "cell_type": "code",
   "execution_count": 1,
   "metadata": {},
   "outputs": [],
   "source": [
    "import csv, requests, json, time\n",
    "import pandas as pd\n",
    "import matplotlib.pyplot as plt\n",
    "import numpy as np"
   ]
  },
  {
   "cell_type": "code",
   "execution_count": 2,
   "metadata": {},
   "outputs": [
    {
     "data": {
      "text/html": [
       "<div>\n",
       "<style scoped>\n",
       "    .dataframe tbody tr th:only-of-type {\n",
       "        vertical-align: middle;\n",
       "    }\n",
       "\n",
       "    .dataframe tbody tr th {\n",
       "        vertical-align: top;\n",
       "    }\n",
       "\n",
       "    .dataframe thead th {\n",
       "        text-align: right;\n",
       "    }\n",
       "</style>\n",
       "<table border=\"1\" class=\"dataframe\">\n",
       "  <thead>\n",
       "    <tr style=\"text-align: right;\">\n",
       "      <th></th>\n",
       "      <th>address</th>\n",
       "      <th>categories</th>\n",
       "      <th>city</th>\n",
       "      <th>country</th>\n",
       "      <th>key</th>\n",
       "      <th>lat</th>\n",
       "      <th>long</th>\n",
       "      <th>name</th>\n",
       "      <th>phones</th>\n",
       "      <th>postalCode</th>\n",
       "      <th>province</th>\n",
       "      <th>websites</th>\n",
       "    </tr>\n",
       "  </thead>\n",
       "  <tbody>\n",
       "    <tr>\n",
       "      <th>0</th>\n",
       "      <td>407 Radam Ln</td>\n",
       "      <td>brewery</td>\n",
       "      <td>Austin</td>\n",
       "      <td>US</td>\n",
       "      <td>us/tx/austin/407radamln</td>\n",
       "      <td>NaN</td>\n",
       "      <td>NaN</td>\n",
       "      <td>(512) Brewing Co</td>\n",
       "      <td>5127072337</td>\n",
       "      <td>78745</td>\n",
       "      <td>TX</td>\n",
       "      <td>NaN</td>\n",
       "    </tr>\n",
       "    <tr>\n",
       "      <th>1</th>\n",
       "      <td>1135 N W Galveston Ave</td>\n",
       "      <td>Brewery and Bar</td>\n",
       "      <td>Bend</td>\n",
       "      <td>US</td>\n",
       "      <td>us/or/bend/1135nwgalvestonave</td>\n",
       "      <td>NaN</td>\n",
       "      <td>NaN</td>\n",
       "      <td>10 Barrel Brewing Company, 10 Barrel Brewing Co</td>\n",
       "      <td>(541) 585-1007, 5415851007</td>\n",
       "      <td>97703</td>\n",
       "      <td>OR</td>\n",
       "      <td>10barrel.com</td>\n",
       "    </tr>\n",
       "    <tr>\n",
       "      <th>2</th>\n",
       "      <td>830 W Bannock St</td>\n",
       "      <td>brewery, Restaurant, Pub, Brewery, pub, Brewer...</td>\n",
       "      <td>Boise</td>\n",
       "      <td>US</td>\n",
       "      <td>us/id/boise/830wbannockst</td>\n",
       "      <td>43.617711</td>\n",
       "      <td>-116.202883</td>\n",
       "      <td>10 Barrel Brewing, 10 Barrel Brewing Co.</td>\n",
       "      <td>(208) 344-5870, 2083445870, 2.08344587E9</td>\n",
       "      <td>83702</td>\n",
       "      <td>ID</td>\n",
       "      <td>10barrel.com</td>\n",
       "    </tr>\n",
       "  </tbody>\n",
       "</table>\n",
       "</div>"
      ],
      "text/plain": [
       "                  address                                         categories  \\\n",
       "0            407 Radam Ln                                            brewery   \n",
       "1  1135 N W Galveston Ave                                    Brewery and Bar   \n",
       "2        830 W Bannock St  brewery, Restaurant, Pub, Brewery, pub, Brewer...   \n",
       "\n",
       "     city country                            key        lat        long  \\\n",
       "0  Austin      US        us/tx/austin/407radamln        NaN         NaN   \n",
       "1    Bend      US  us/or/bend/1135nwgalvestonave        NaN         NaN   \n",
       "2   Boise      US      us/id/boise/830wbannockst  43.617711 -116.202883   \n",
       "\n",
       "                                              name  \\\n",
       "0                                 (512) Brewing Co   \n",
       "1  10 Barrel Brewing Company, 10 Barrel Brewing Co   \n",
       "2         10 Barrel Brewing, 10 Barrel Brewing Co.   \n",
       "\n",
       "                                     phones postalCode province      websites  \n",
       "0                                5127072337      78745       TX           NaN  \n",
       "1                (541) 585-1007, 5415851007      97703       OR  10barrel.com  \n",
       "2  (208) 344-5870, 2083445870, 2.08344587E9      83702       ID  10barrel.com  "
      ]
     },
     "execution_count": 2,
     "metadata": {},
     "output_type": "execute_result"
    }
   ],
   "source": [
    "file_loc = 'C:/Users/leala/Documents/Project 1/breweries-brew-pubs-in-the-usa'\n",
    "\n",
    "file_1 = pd.read_csv(file_loc + '/7160_1.csv')\n",
    "file_1.head(3)"
   ]
  },
  {
   "cell_type": "code",
   "execution_count": 3,
   "metadata": {},
   "outputs": [
    {
     "data": {
      "text/html": [
       "<div>\n",
       "<style scoped>\n",
       "    .dataframe tbody tr th:only-of-type {\n",
       "        vertical-align: middle;\n",
       "    }\n",
       "\n",
       "    .dataframe tbody tr th {\n",
       "        vertical-align: top;\n",
       "    }\n",
       "\n",
       "    .dataframe thead th {\n",
       "        text-align: right;\n",
       "    }\n",
       "</style>\n",
       "<table border=\"1\" class=\"dataframe\">\n",
       "  <thead>\n",
       "    <tr style=\"text-align: right;\">\n",
       "      <th></th>\n",
       "      <th>address</th>\n",
       "      <th>categories</th>\n",
       "      <th>city</th>\n",
       "      <th>country</th>\n",
       "      <th>key</th>\n",
       "      <th>lat</th>\n",
       "      <th>long</th>\n",
       "      <th>name</th>\n",
       "      <th>phones</th>\n",
       "      <th>postalCode</th>\n",
       "      <th>province</th>\n",
       "      <th>websites</th>\n",
       "    </tr>\n",
       "  </thead>\n",
       "  <tbody>\n",
       "  </tbody>\n",
       "</table>\n",
       "</div>"
      ],
      "text/plain": [
       "Empty DataFrame\n",
       "Columns: [address, categories, city, country, key, lat, long, name, phones, postalCode, province, websites]\n",
       "Index: []"
      ]
     },
     "execution_count": 3,
     "metadata": {},
     "output_type": "execute_result"
    }
   ],
   "source": [
    "# Is everything in the US?  It should be  but double check\n",
    "file_1[file_1['country'] != 'US']"
   ]
  },
  {
   "cell_type": "markdown",
   "metadata": {},
   "source": [
    "## Create Dataframe for information within CSV file\n",
    "- Create list just for TX since that is the focus State"
   ]
  },
  {
   "cell_type": "code",
   "execution_count": 4,
   "metadata": {
    "scrolled": true
   },
   "outputs": [
    {
     "data": {
      "text/html": [
       "<div>\n",
       "<style scoped>\n",
       "    .dataframe tbody tr th:only-of-type {\n",
       "        vertical-align: middle;\n",
       "    }\n",
       "\n",
       "    .dataframe tbody tr th {\n",
       "        vertical-align: top;\n",
       "    }\n",
       "\n",
       "    .dataframe thead th {\n",
       "        text-align: right;\n",
       "    }\n",
       "</style>\n",
       "<table border=\"1\" class=\"dataframe\">\n",
       "  <thead>\n",
       "    <tr style=\"text-align: right;\">\n",
       "      <th></th>\n",
       "      <th>Address</th>\n",
       "      <th>City</th>\n",
       "      <th>Count</th>\n",
       "      <th>Country</th>\n",
       "      <th>Latitude</th>\n",
       "      <th>Longitude</th>\n",
       "      <th>Name</th>\n",
       "      <th>State</th>\n",
       "      <th>Zip Code</th>\n",
       "    </tr>\n",
       "  </thead>\n",
       "  <tbody>\n",
       "    <tr>\n",
       "      <th>0</th>\n",
       "      <td>407 Radam Ln</td>\n",
       "      <td>Austin</td>\n",
       "      <td>1</td>\n",
       "      <td>US</td>\n",
       "      <td>NaN</td>\n",
       "      <td>NaN</td>\n",
       "      <td>(512) Brewing Co</td>\n",
       "      <td>TX</td>\n",
       "      <td>78745</td>\n",
       "    </tr>\n",
       "    <tr>\n",
       "      <th>3</th>\n",
       "      <td>1022 Texan Trl</td>\n",
       "      <td>Grapevine</td>\n",
       "      <td>1</td>\n",
       "      <td>US</td>\n",
       "      <td>32.938385</td>\n",
       "      <td>-97.064340</td>\n",
       "      <td>10 Gallon Tours</td>\n",
       "      <td>TX</td>\n",
       "      <td>76051</td>\n",
       "    </tr>\n",
       "    <tr>\n",
       "      <th>48</th>\n",
       "      <td>2514 S W 34th Ave</td>\n",
       "      <td>Amarillo</td>\n",
       "      <td>1</td>\n",
       "      <td>US</td>\n",
       "      <td>35.178496</td>\n",
       "      <td>-101.864166</td>\n",
       "      <td>34th Street Discount</td>\n",
       "      <td>TX</td>\n",
       "      <td>79109</td>\n",
       "    </tr>\n",
       "  </tbody>\n",
       "</table>\n",
       "</div>"
      ],
      "text/plain": [
       "              Address       City  Count Country   Latitude   Longitude  \\\n",
       "0        407 Radam Ln     Austin      1      US        NaN         NaN   \n",
       "3      1022 Texan Trl  Grapevine      1      US  32.938385  -97.064340   \n",
       "48  2514 S W 34th Ave   Amarillo      1      US  35.178496 -101.864166   \n",
       "\n",
       "                    Name State Zip Code  \n",
       "0       (512) Brewing Co    TX    78745  \n",
       "3        10 Gallon Tours    TX    76051  \n",
       "48  34th Street Discount    TX    79109  "
      ]
     },
     "execution_count": 4,
     "metadata": {},
     "output_type": "execute_result"
    }
   ],
   "source": [
    "# Create a DataFrame to hold the relavent information\n",
    "brew_frame = pd.DataFrame({'Name': file_1['name'],\n",
    "              'Address': file_1['address'],\n",
    "              'City': file_1['city'],\n",
    "              'State': file_1['province'],\n",
    "              'Country': file_1['country'],\n",
    "              'Zip Code': file_1['postalCode'],\n",
    "              'Latitude': file_1['lat'],\n",
    "              'Longitude': file_1['long'],\n",
    "              'Count': int(1)\n",
    "              })\n",
    "                               \n",
    "# Just show TX because thats the state we're focusing on\n",
    "brew_frame[brew_frame['State'] == 'TX'].head(3)"
   ]
  },
  {
   "cell_type": "markdown",
   "metadata": {},
   "source": [
    "## Clean the data within the Dataframe"
   ]
  },
  {
   "cell_type": "code",
   "execution_count": 5,
   "metadata": {},
   "outputs": [],
   "source": [
    "# look for null information that will throw off full address creation\n",
    "# brew_nan = brew[brew.isnull().any(axis=1)]\n",
    "# print(brew_nan)"
   ]
  },
  {
   "cell_type": "code",
   "execution_count": 6,
   "metadata": {
    "scrolled": true
   },
   "outputs": [
    {
     "data": {
      "text/plain": [
       "array(['TX', 'OR', 'ID', 'MN', 'CA', 'CO', 'WA', 'MI', 'VT', 'NJ', 'DE',\n",
       "       'NY', 'IN', 'AZ', 'PA', 'WV', 'ME', 'VA', 'KS', 'MO', 'WI', 'MT',\n",
       "       'FL', 'DC', 'IL', 'KY', 'OK', 'TN', 'AK', 'GA', 'IA', 'AR', 'NH',\n",
       "       'OH', 'CT', 'MA', 'NC', 'LA', 'AL', 'WY', 'SC', 'NV', 'HI', 'NM',\n",
       "       'AU-WA', 'NE', 'MD', 'UT', 'ND', 'RI', 'SD', 'Denver', 'AB', 'NL',\n",
       "       'MS', 'Los Angeles', 'San Diego', 'Pittsburgh', 'St. Louis',\n",
       "       'Sacramento', 'ON', 'Tampa'], dtype=object)"
      ]
     },
     "execution_count": 6,
     "metadata": {},
     "output_type": "execute_result"
    }
   ],
   "source": [
    "# Look for dirty data within the State column\n",
    "brew_frame['State'].unique()"
   ]
  },
  {
   "cell_type": "code",
   "execution_count": null,
   "metadata": {},
   "outputs": [],
   "source": [
    "# Replace all the cities in the 'States' column with correct data\n",
    "brew_frame['State'] = brew_frame.State.str.replace('AU-WA','WA').replace('Denver','CO').replace('Los Angeles','CA')\\\n",
    "                        .replace('San Diego','CA').replace('Sacramento', 'CA').replace('Pittsburgh', 'PA')\\\n",
    "                        .replace('St. Louis', 'MO').replace('Tampa', 'FL')\n",
    "# double check to ensure States are now uniform state codes\n",
    "# brew_frame.loc[brew_frame['State'].str.len() > 2]\n",
    "    \n",
    "# These show up later as rotten data, fixing them here\n",
    "brew_frame['City'] = brew_frame.City.str.replace('Saltlakecity ', 'Salt Lake City').replace('Lakeleelanau ', 'Leelanau').replace('Batonrouge', 'Baton Rouge')\n",
    "brew_frame['Address'] = brew_frame.Address.replace('725 4TH E Saint (btwn D & St)', '725 4TH E Saint').replace('110 N W Shenandoah Ave Hotel Roanoke & Conference Ctr', '110 N W Shenandoah Ave')\\\n",
    "                        .replace('216 7TH Ave (btw 22nd & 23rd)', '216 7TH Ave').replace('30770 E Russell Ranch Road Suites & F', '30770 E Russell Ranch Road')\\\n",
    "                        .replace('317 Broadway (btw 3rd & 4th Ave S)', '317 Broadway').replace('4133 N E University Way (btwn 42nd & 41st)', '4133 N E University Way')\\\n",
    "                        .replace('4517 N Oakland Ave (btwn Kensington & Glendale)', '4517 N Oakland Ave')\n",
    "\n",
    "# zipcodes are pretty bogus, i'll grab them from the API call instead\n",
    "# brew_frame.loc[brew_frame['Zip Code'].str.len() > 5].head()"
   ]
  },
  {
   "cell_type": "markdown",
   "metadata": {},
   "source": [
    "## Graph total Craft Breweries by State"
   ]
  },
  {
   "cell_type": "code",
   "execution_count": 8,
   "metadata": {},
   "outputs": [
    {
     "data": {
      "text/html": [
       "<div>\n",
       "<style scoped>\n",
       "    .dataframe tbody tr th:only-of-type {\n",
       "        vertical-align: middle;\n",
       "    }\n",
       "\n",
       "    .dataframe tbody tr th {\n",
       "        vertical-align: top;\n",
       "    }\n",
       "\n",
       "    .dataframe thead th {\n",
       "        text-align: right;\n",
       "    }\n",
       "</style>\n",
       "<table border=\"1\" class=\"dataframe\">\n",
       "  <thead>\n",
       "    <tr style=\"text-align: right;\">\n",
       "      <th></th>\n",
       "      <th>State</th>\n",
       "      <th>State Total</th>\n",
       "    </tr>\n",
       "    <tr>\n",
       "      <th>State</th>\n",
       "      <th></th>\n",
       "      <th></th>\n",
       "    </tr>\n",
       "  </thead>\n",
       "  <tbody>\n",
       "    <tr>\n",
       "      <th>AB</th>\n",
       "      <td>(AB, [AB])</td>\n",
       "      <td>1</td>\n",
       "    </tr>\n",
       "    <tr>\n",
       "      <th>AK</th>\n",
       "      <td>(AK, [AK, AK, AK, AK, AK, AK, AK, AK, AK, AK, ...</td>\n",
       "      <td>27</td>\n",
       "    </tr>\n",
       "    <tr>\n",
       "      <th>AL</th>\n",
       "      <td>(AL, [AL, AL, AL, AL, AL, AL, AL, AL, AL, AL, ...</td>\n",
       "      <td>67</td>\n",
       "    </tr>\n",
       "    <tr>\n",
       "      <th>AR</th>\n",
       "      <td>(AR, [AR, AR, AR, AR, AR, AR, AR, AR, AR, AR, ...</td>\n",
       "      <td>56</td>\n",
       "    </tr>\n",
       "    <tr>\n",
       "      <th>AZ</th>\n",
       "      <td>(AZ, [AZ, AZ, AZ, AZ, AZ, AZ, AZ, AZ, AZ, AZ, ...</td>\n",
       "      <td>155</td>\n",
       "    </tr>\n",
       "  </tbody>\n",
       "</table>\n",
       "</div>"
      ],
      "text/plain": [
       "                                                   State  State Total\n",
       "State                                                                \n",
       "AB                                            (AB, [AB])            1\n",
       "AK     (AK, [AK, AK, AK, AK, AK, AK, AK, AK, AK, AK, ...           27\n",
       "AL     (AL, [AL, AL, AL, AL, AL, AL, AL, AL, AL, AL, ...           67\n",
       "AR     (AR, [AR, AR, AR, AR, AR, AR, AR, AR, AR, AR, ...           56\n",
       "AZ     (AZ, [AZ, AZ, AZ, AZ, AZ, AZ, AZ, AZ, AZ, AZ, ...          155"
      ]
     },
     "execution_count": 8,
     "metadata": {},
     "output_type": "execute_result"
    }
   ],
   "source": [
    "# create count column for dataframe referencing total breweries\n",
    "state_count = brew_frame.groupby('State')\n",
    "\n",
    "state_sum = pd.DataFrame({'State': state_count['State'],\n",
    "                          'State Total': state_count['Count'].sum()\n",
    "                           })\n",
    "state_sum.head()\n"
   ]
  },
  {
   "cell_type": "code",
   "execution_count": 9,
   "metadata": {},
   "outputs": [
    {
     "ename": "AttributeError",
     "evalue": "'DataFrameGroupBy' object has no attribute 'largest'",
     "output_type": "error",
     "traceback": [
      "\u001b[1;31m---------------------------------------------------------------------------\u001b[0m",
      "\u001b[1;31mAttributeError\u001b[0m                            Traceback (most recent call last)",
      "\u001b[1;32m<ipython-input-9-b2441b17e576>\u001b[0m in \u001b[0;36m<module>\u001b[1;34m()\u001b[0m\n\u001b[1;32m----> 1\u001b[1;33m \u001b[0mstate_total\u001b[0m \u001b[1;33m=\u001b[0m \u001b[0mstate_count\u001b[0m\u001b[1;33m.\u001b[0m\u001b[0mlargest\u001b[0m\u001b[1;33m(\u001b[0m\u001b[1;36m10\u001b[0m\u001b[1;33m,\u001b[0m \u001b[0mcolumns\u001b[0m\u001b[1;33m=\u001b[0m\u001b[1;33m[\u001b[0m\u001b[1;34m'Count'\u001b[0m\u001b[1;33m]\u001b[0m\u001b[1;33m)\u001b[0m\u001b[1;33m\u001b[0m\u001b[0m\n\u001b[0m\u001b[0;32m      2\u001b[0m \u001b[0mstate_total\u001b[0m\u001b[1;33m\u001b[0m\u001b[0m\n\u001b[0;32m      3\u001b[0m \u001b[1;33m\u001b[0m\u001b[0m\n\u001b[0;32m      4\u001b[0m \u001b[1;31m# plt.bar(state_count['State'].head(10), state_count['State Total'].head(10), color='blue', alpha=0.5, align=\"center\")\u001b[0m\u001b[1;33m\u001b[0m\u001b[1;33m\u001b[0m\u001b[0m\n\u001b[0;32m      5\u001b[0m \u001b[1;31m# plt.title(\"States with highest number of Breweries\")\u001b[0m\u001b[1;33m\u001b[0m\u001b[1;33m\u001b[0m\u001b[0m\n",
      "\u001b[1;32m~\\Anaconda3\\lib\\site-packages\\pandas\\core\\groupby.py\u001b[0m in \u001b[0;36m__getattr__\u001b[1;34m(self, attr)\u001b[0m\n\u001b[0;32m    674\u001b[0m \u001b[1;33m\u001b[0m\u001b[0m\n\u001b[0;32m    675\u001b[0m         raise AttributeError(\"%r object has no attribute %r\" %\n\u001b[1;32m--> 676\u001b[1;33m                              (type(self).__name__, attr))\n\u001b[0m\u001b[0;32m    677\u001b[0m \u001b[1;33m\u001b[0m\u001b[0m\n\u001b[0;32m    678\u001b[0m     \u001b[0mplot\u001b[0m \u001b[1;33m=\u001b[0m \u001b[0mproperty\u001b[0m\u001b[1;33m(\u001b[0m\u001b[0mGroupByPlot\u001b[0m\u001b[1;33m)\u001b[0m\u001b[1;33m\u001b[0m\u001b[0m\n",
      "\u001b[1;31mAttributeError\u001b[0m: 'DataFrameGroupBy' object has no attribute 'largest'"
     ]
    }
   ],
   "source": [
    "state_total = state_count.largest(10, columns=['Count'])\n",
    "state_total\n",
    "\n",
    "# plt.bar(state_count['State'].head(10), state_count['State Total'].head(10), color='blue', alpha=0.5, align=\"center\")\n",
    "# plt.title(\"States with highest number of Breweries\")\n",
    "# plt.xlabel(\"State Abbreviation\")\n",
    "# plt.ylabel(\"Total Number of Brewery\")"
   ]
  },
  {
   "cell_type": "markdown",
   "metadata": {},
   "source": [
    "## API calls to fill in missing Lat and Long information\n",
    "- Added a more information to the call just to get a complete picture.  May or may not be necessary later"
   ]
  },
  {
   "cell_type": "code",
   "execution_count": 10,
   "metadata": {
    "scrolled": true
   },
   "outputs": [
    {
     "name": "stdout",
     "output_type": "stream",
     "text": [
      "78745-1113\n"
     ]
    }
   ],
   "source": [
    "# google places API didnt want to cooperate, using mapquest instead to return lat and long\n",
    "mq_key = 'nUGqYA2YWuf23HVKSDUqGv4VtOLwvA3F'\n",
    "address = '407 Radam Ln, Austin TX, 78745'\n",
    "\n",
    "# create sample API call to get proper index\n",
    "url = 'http://www.mapquestapi.com/geocoding/v1/address?key='\n",
    "test = requests.get(url + mq_key + '&location=' + address + '&thumbMaps=false').json()\n",
    "# print(json.dumps(test, indent=2, sort_keys=True))\n",
    "\n",
    "# test to make sure calls are pulling correct info\n",
    "lat_collect = test['results'][0]['locations'][0]['latLng']['lat']\n",
    "lng_collect = test['results'][0]['locations'][0]['latLng']['lng']\n",
    "\n",
    "print(test['results'][0]['locations'][0]['postalCode'])"
   ]
  },
  {
   "cell_type": "code",
   "execution_count": 12,
   "metadata": {},
   "outputs": [],
   "source": [
    "# brew_null = brew_two[brew_two.isnull().any(axis=1)]\n",
    "# len(brew_null)"
   ]
  },
  {
   "cell_type": "code",
   "execution_count": 13,
   "metadata": {},
   "outputs": [
    {
     "name": "stdout",
     "output_type": "stream",
     "text": [
      "Information missing for  Corner Of Dixie Hwy & Birch Run Rd, Birch Run MI\n",
      "-------------------------------------\n",
      "Information missing for  2290 S French Rd, Lakeleelanau MI\n",
      "-------------------------------------\n",
      "Information missing for  Btwn Gates 7 & 8, Madison WI\n",
      "-------------------------------------\n",
      "Information missing for  147 W 300 S, Saltlakecity UT\n",
      "-------------------------------------\n",
      "Information missing for  2110 S Highland Dr, Saltlakecity UT\n",
      "-------------------------------------\n"
     ]
    }
   ],
   "source": [
    "full_address= (brew_frame['Address'] + \", \" + brew_frame['City'] + \" \" + brew_frame['State']) \n",
    "\n",
    "lat = []\n",
    "lng = []\n",
    "zipCode = []\n",
    "county = []\n",
    "\n",
    "for address in full_address:\n",
    "    response = requests.get(url + mq_key + '&location=' + address + '&thumbMaps=false').json()\n",
    "    time.sleep(1)\n",
    "    try:\n",
    "#         print('---------------------------------')\n",
    "#         print('Location: ', address)\n",
    "#         print(response['results'][0]['locations'][0]['latLng']['lat'])\n",
    "#         print(response['results'][0]['locations'][0]['latLng']['lng'])\n",
    "        lat.append(response['results'][0]['locations'][0]['latLng']['lat'])\n",
    "        lng.append(response['results'][0]['locatio\n",
    "                                          ns'][0]['latLng']['lng'])\n",
    "        zipCode.append(response['results'][0]['locations'][0]['postalCode'])\n",
    "        county.append(response['results'][0]['locations'][0]['adminArea4'])\n",
    "    except:\n",
    "        print(f\"Information missing for \", address)\n",
    "        print(f\"-------------------------------------\")\n",
    "        lat.append('NaN')\n",
    "        lng.append('NaN')\n",
    "                                          \n",
    "        zipCode.append('NaN')\n",
    "        county.append('NaN')\n",
    "        pass"
   ]
  },
  {
   "cell_type": "code",
   "execution_count": 54,
   "metadata": {},
   "outputs": [],
   "source": [
    "brew_two = pd.DataFrame({'Brewery': brew_frame['Name'],\n",
    "                         'Full Address': full_address,\n",
    "                         'State': brew_frame['State'],\n",
    "                         'Lat': lat,\n",
    "                         'Lng': lng,\n",
    "                         'Zip Code': zipCode,\n",
    "                         'County': county\n",
    "                        })\n",
    "brew_two.head(3)\n",
    "brew_two.to_csv('breweries.csv')"
   ]
  },
  {
   "cell_type": "code",
   "execution_count": 35,
   "metadata": {},
   "outputs": [
    {
     "name": "stdout",
     "output_type": "stream",
     "text": [
      "7375 7375\n"
     ]
    }
   ],
   "source": [
    "# get rid of the NaN values I added so they dont get into the plot\n",
    "# brew_two['Lat'].replace('', np.nan, inplace=True) << from when I didnt just add them in as NaN\n",
    "# brew_two.dropna(subset=['Lat'], how='any', inplace=True)\n",
    "print(len(brew_two['Full Address']), len(brew_two['Lat']))"
   ]
  },
  {
   "cell_type": "code",
   "execution_count": 40,
   "metadata": {
    "collapsed": true
   },
   "outputs": [
    {
     "name": "stdout",
     "output_type": "stream",
     "text": [
      "Information missing for  \n",
      "-------------------------------------\n",
      "Information missing for  \n",
      "-------------------------------------\n",
      "Information missing for  \n",
      "-------------------------------------\n",
      "Information missing for  \n",
      "-------------------------------------\n",
      "Information missing for  \n",
      "-------------------------------------\n",
      "Information missing for  \n",
      "-------------------------------------\n",
      "Information missing for  \n",
      "-------------------------------------\n",
      "Information missing for  \n",
      "-------------------------------------\n",
      "Information missing for  \n",
      "-------------------------------------\n",
      "Information missing for  \n",
      "-------------------------------------\n",
      "Information missing for  \n",
      "-------------------------------------\n",
      "Information missing for  \n",
      "-------------------------------------\n",
      "Information missing for  \n",
      "-------------------------------------\n",
      "Information missing for  \n",
      "-------------------------------------\n",
      "Information missing for  \n",
      "-------------------------------------\n",
      "Information missing for  \n",
      "-------------------------------------\n",
      "Information missing for  \n",
      "-------------------------------------\n"
     ]
    },
    {
     "ename": "KeyboardInterrupt",
     "evalue": "",
     "output_type": "error",
     "traceback": [
      "\u001b[1;31m---------------------------------------------------------------------------\u001b[0m",
      "\u001b[1;31mTypeError\u001b[0m                                 Traceback (most recent call last)",
      "\u001b[1;32m~\\Anaconda3\\lib\\site-packages\\urllib3\\connectionpool.py\u001b[0m in \u001b[0;36m_make_request\u001b[1;34m(self, conn, method, url, timeout, chunked, **httplib_request_kw)\u001b[0m\n\u001b[0;32m    379\u001b[0m             \u001b[1;32mtry\u001b[0m\u001b[1;33m:\u001b[0m  \u001b[1;31m# Python 2.7, use buffering of HTTP responses\u001b[0m\u001b[1;33m\u001b[0m\u001b[0m\n\u001b[1;32m--> 380\u001b[1;33m                 \u001b[0mhttplib_response\u001b[0m \u001b[1;33m=\u001b[0m \u001b[0mconn\u001b[0m\u001b[1;33m.\u001b[0m\u001b[0mgetresponse\u001b[0m\u001b[1;33m(\u001b[0m\u001b[0mbuffering\u001b[0m\u001b[1;33m=\u001b[0m\u001b[1;32mTrue\u001b[0m\u001b[1;33m)\u001b[0m\u001b[1;33m\u001b[0m\u001b[0m\n\u001b[0m\u001b[0;32m    381\u001b[0m             \u001b[1;32mexcept\u001b[0m \u001b[0mTypeError\u001b[0m\u001b[1;33m:\u001b[0m  \u001b[1;31m# Python 2.6 and older, Python 3\u001b[0m\u001b[1;33m\u001b[0m\u001b[0m\n",
      "\u001b[1;31mTypeError\u001b[0m: getresponse() got an unexpected keyword argument 'buffering'",
      "\nDuring handling of the above exception, another exception occurred:\n",
      "\u001b[1;31mKeyboardInterrupt\u001b[0m                         Traceback (most recent call last)",
      "\u001b[1;32m<ipython-input-40-f1c355f14926>\u001b[0m in \u001b[0;36m<module>\u001b[1;34m()\u001b[0m\n\u001b[0;32m      2\u001b[0m \u001b[1;33m\u001b[0m\u001b[0m\n\u001b[0;32m      3\u001b[0m \u001b[1;32mfor\u001b[0m \u001b[0mindex\u001b[0m\u001b[1;33m,\u001b[0m \u001b[0mlocation\u001b[0m \u001b[1;32min\u001b[0m \u001b[0mbrew_two\u001b[0m\u001b[1;33m.\u001b[0m\u001b[0miterrows\u001b[0m\u001b[1;33m(\u001b[0m\u001b[1;33m)\u001b[0m\u001b[1;33m:\u001b[0m\u001b[1;33m\u001b[0m\u001b[0m\n\u001b[1;32m----> 4\u001b[1;33m     \u001b[0mresponse\u001b[0m \u001b[1;33m=\u001b[0m \u001b[0mrequests\u001b[0m\u001b[1;33m.\u001b[0m\u001b[0mget\u001b[0m\u001b[1;33m(\u001b[0m\u001b[0murl\u001b[0m \u001b[1;33m+\u001b[0m \u001b[0mmq_key\u001b[0m \u001b[1;33m+\u001b[0m \u001b[1;34m'&inFormat=kvp&outFormat=json&location='\u001b[0m \u001b[1;33m+\u001b[0m \u001b[0mlocation\u001b[0m\u001b[1;33m[\u001b[0m\u001b[1;36m0\u001b[0m\u001b[1;33m]\u001b[0m\u001b[1;33m)\u001b[0m\u001b[1;33m.\u001b[0m\u001b[0mjson\u001b[0m\u001b[1;33m(\u001b[0m\u001b[1;33m)\u001b[0m\u001b[1;33m\u001b[0m\u001b[0m\n\u001b[0m\u001b[0;32m      5\u001b[0m     \u001b[1;32mtry\u001b[0m\u001b[1;33m:\u001b[0m\u001b[1;33m\u001b[0m\u001b[0m\n\u001b[0;32m      6\u001b[0m         \u001b[0mbrew_two\u001b[0m\u001b[1;33m.\u001b[0m\u001b[0mloc\u001b[0m\u001b[1;33m[\u001b[0m\u001b[0mindex\u001b[0m\u001b[1;33m,\u001b[0m \u001b[1;34m'Lat'\u001b[0m\u001b[1;33m]\u001b[0m \u001b[1;33m=\u001b[0m \u001b[0mresponse\u001b[0m\u001b[1;33m[\u001b[0m\u001b[1;34m'results'\u001b[0m\u001b[1;33m]\u001b[0m\u001b[1;33m[\u001b[0m\u001b[1;36m0\u001b[0m\u001b[1;33m]\u001b[0m\u001b[1;33m[\u001b[0m\u001b[1;34m'locations'\u001b[0m\u001b[1;33m]\u001b[0m\u001b[1;33m[\u001b[0m\u001b[1;36m0\u001b[0m\u001b[1;33m]\u001b[0m\u001b[1;33m[\u001b[0m\u001b[1;34m'latLng'\u001b[0m\u001b[1;33m]\u001b[0m\u001b[1;33m[\u001b[0m\u001b[1;34m'lat'\u001b[0m\u001b[1;33m]\u001b[0m\u001b[1;33m\u001b[0m\u001b[0m\n",
      "\u001b[1;32m~\\Anaconda3\\lib\\site-packages\\requests\\api.py\u001b[0m in \u001b[0;36mget\u001b[1;34m(url, params, **kwargs)\u001b[0m\n\u001b[0;32m     70\u001b[0m \u001b[1;33m\u001b[0m\u001b[0m\n\u001b[0;32m     71\u001b[0m     \u001b[0mkwargs\u001b[0m\u001b[1;33m.\u001b[0m\u001b[0msetdefault\u001b[0m\u001b[1;33m(\u001b[0m\u001b[1;34m'allow_redirects'\u001b[0m\u001b[1;33m,\u001b[0m \u001b[1;32mTrue\u001b[0m\u001b[1;33m)\u001b[0m\u001b[1;33m\u001b[0m\u001b[0m\n\u001b[1;32m---> 72\u001b[1;33m     \u001b[1;32mreturn\u001b[0m \u001b[0mrequest\u001b[0m\u001b[1;33m(\u001b[0m\u001b[1;34m'get'\u001b[0m\u001b[1;33m,\u001b[0m \u001b[0murl\u001b[0m\u001b[1;33m,\u001b[0m \u001b[0mparams\u001b[0m\u001b[1;33m=\u001b[0m\u001b[0mparams\u001b[0m\u001b[1;33m,\u001b[0m \u001b[1;33m**\u001b[0m\u001b[0mkwargs\u001b[0m\u001b[1;33m)\u001b[0m\u001b[1;33m\u001b[0m\u001b[0m\n\u001b[0m\u001b[0;32m     73\u001b[0m \u001b[1;33m\u001b[0m\u001b[0m\n\u001b[0;32m     74\u001b[0m \u001b[1;33m\u001b[0m\u001b[0m\n",
      "\u001b[1;32m~\\Anaconda3\\lib\\site-packages\\requests\\api.py\u001b[0m in \u001b[0;36mrequest\u001b[1;34m(method, url, **kwargs)\u001b[0m\n\u001b[0;32m     56\u001b[0m     \u001b[1;31m# cases, and look like a memory leak in others.\u001b[0m\u001b[1;33m\u001b[0m\u001b[1;33m\u001b[0m\u001b[0m\n\u001b[0;32m     57\u001b[0m     \u001b[1;32mwith\u001b[0m \u001b[0msessions\u001b[0m\u001b[1;33m.\u001b[0m\u001b[0mSession\u001b[0m\u001b[1;33m(\u001b[0m\u001b[1;33m)\u001b[0m \u001b[1;32mas\u001b[0m \u001b[0msession\u001b[0m\u001b[1;33m:\u001b[0m\u001b[1;33m\u001b[0m\u001b[0m\n\u001b[1;32m---> 58\u001b[1;33m         \u001b[1;32mreturn\u001b[0m \u001b[0msession\u001b[0m\u001b[1;33m.\u001b[0m\u001b[0mrequest\u001b[0m\u001b[1;33m(\u001b[0m\u001b[0mmethod\u001b[0m\u001b[1;33m=\u001b[0m\u001b[0mmethod\u001b[0m\u001b[1;33m,\u001b[0m \u001b[0murl\u001b[0m\u001b[1;33m=\u001b[0m\u001b[0murl\u001b[0m\u001b[1;33m,\u001b[0m \u001b[1;33m**\u001b[0m\u001b[0mkwargs\u001b[0m\u001b[1;33m)\u001b[0m\u001b[1;33m\u001b[0m\u001b[0m\n\u001b[0m\u001b[0;32m     59\u001b[0m \u001b[1;33m\u001b[0m\u001b[0m\n\u001b[0;32m     60\u001b[0m \u001b[1;33m\u001b[0m\u001b[0m\n",
      "\u001b[1;32m~\\Anaconda3\\lib\\site-packages\\requests\\sessions.py\u001b[0m in \u001b[0;36mrequest\u001b[1;34m(self, method, url, params, data, headers, cookies, files, auth, timeout, allow_redirects, proxies, hooks, stream, verify, cert, json)\u001b[0m\n\u001b[0;32m    506\u001b[0m         }\n\u001b[0;32m    507\u001b[0m         \u001b[0msend_kwargs\u001b[0m\u001b[1;33m.\u001b[0m\u001b[0mupdate\u001b[0m\u001b[1;33m(\u001b[0m\u001b[0msettings\u001b[0m\u001b[1;33m)\u001b[0m\u001b[1;33m\u001b[0m\u001b[0m\n\u001b[1;32m--> 508\u001b[1;33m         \u001b[0mresp\u001b[0m \u001b[1;33m=\u001b[0m \u001b[0mself\u001b[0m\u001b[1;33m.\u001b[0m\u001b[0msend\u001b[0m\u001b[1;33m(\u001b[0m\u001b[0mprep\u001b[0m\u001b[1;33m,\u001b[0m \u001b[1;33m**\u001b[0m\u001b[0msend_kwargs\u001b[0m\u001b[1;33m)\u001b[0m\u001b[1;33m\u001b[0m\u001b[0m\n\u001b[0m\u001b[0;32m    509\u001b[0m \u001b[1;33m\u001b[0m\u001b[0m\n\u001b[0;32m    510\u001b[0m         \u001b[1;32mreturn\u001b[0m \u001b[0mresp\u001b[0m\u001b[1;33m\u001b[0m\u001b[0m\n",
      "\u001b[1;32m~\\Anaconda3\\lib\\site-packages\\requests\\sessions.py\u001b[0m in \u001b[0;36msend\u001b[1;34m(self, request, **kwargs)\u001b[0m\n\u001b[0;32m    616\u001b[0m \u001b[1;33m\u001b[0m\u001b[0m\n\u001b[0;32m    617\u001b[0m         \u001b[1;31m# Send the request\u001b[0m\u001b[1;33m\u001b[0m\u001b[1;33m\u001b[0m\u001b[0m\n\u001b[1;32m--> 618\u001b[1;33m         \u001b[0mr\u001b[0m \u001b[1;33m=\u001b[0m \u001b[0madapter\u001b[0m\u001b[1;33m.\u001b[0m\u001b[0msend\u001b[0m\u001b[1;33m(\u001b[0m\u001b[0mrequest\u001b[0m\u001b[1;33m,\u001b[0m \u001b[1;33m**\u001b[0m\u001b[0mkwargs\u001b[0m\u001b[1;33m)\u001b[0m\u001b[1;33m\u001b[0m\u001b[0m\n\u001b[0m\u001b[0;32m    619\u001b[0m \u001b[1;33m\u001b[0m\u001b[0m\n\u001b[0;32m    620\u001b[0m         \u001b[1;31m# Total elapsed time of the request (approximately)\u001b[0m\u001b[1;33m\u001b[0m\u001b[1;33m\u001b[0m\u001b[0m\n",
      "\u001b[1;32m~\\Anaconda3\\lib\\site-packages\\requests\\adapters.py\u001b[0m in \u001b[0;36msend\u001b[1;34m(self, request, stream, timeout, verify, cert, proxies)\u001b[0m\n\u001b[0;32m    438\u001b[0m                     \u001b[0mdecode_content\u001b[0m\u001b[1;33m=\u001b[0m\u001b[1;32mFalse\u001b[0m\u001b[1;33m,\u001b[0m\u001b[1;33m\u001b[0m\u001b[0m\n\u001b[0;32m    439\u001b[0m                     \u001b[0mretries\u001b[0m\u001b[1;33m=\u001b[0m\u001b[0mself\u001b[0m\u001b[1;33m.\u001b[0m\u001b[0mmax_retries\u001b[0m\u001b[1;33m,\u001b[0m\u001b[1;33m\u001b[0m\u001b[0m\n\u001b[1;32m--> 440\u001b[1;33m                     \u001b[0mtimeout\u001b[0m\u001b[1;33m=\u001b[0m\u001b[0mtimeout\u001b[0m\u001b[1;33m\u001b[0m\u001b[0m\n\u001b[0m\u001b[0;32m    441\u001b[0m                 )\n\u001b[0;32m    442\u001b[0m \u001b[1;33m\u001b[0m\u001b[0m\n",
      "\u001b[1;32m~\\Anaconda3\\lib\\site-packages\\urllib3\\connectionpool.py\u001b[0m in \u001b[0;36murlopen\u001b[1;34m(self, method, url, body, headers, retries, redirect, assert_same_host, timeout, pool_timeout, release_conn, chunked, body_pos, **response_kw)\u001b[0m\n\u001b[0;32m    599\u001b[0m                                                   \u001b[0mtimeout\u001b[0m\u001b[1;33m=\u001b[0m\u001b[0mtimeout_obj\u001b[0m\u001b[1;33m,\u001b[0m\u001b[1;33m\u001b[0m\u001b[0m\n\u001b[0;32m    600\u001b[0m                                                   \u001b[0mbody\u001b[0m\u001b[1;33m=\u001b[0m\u001b[0mbody\u001b[0m\u001b[1;33m,\u001b[0m \u001b[0mheaders\u001b[0m\u001b[1;33m=\u001b[0m\u001b[0mheaders\u001b[0m\u001b[1;33m,\u001b[0m\u001b[1;33m\u001b[0m\u001b[0m\n\u001b[1;32m--> 601\u001b[1;33m                                                   chunked=chunked)\n\u001b[0m\u001b[0;32m    602\u001b[0m \u001b[1;33m\u001b[0m\u001b[0m\n\u001b[0;32m    603\u001b[0m             \u001b[1;31m# If we're going to release the connection in ``finally:``, then\u001b[0m\u001b[1;33m\u001b[0m\u001b[1;33m\u001b[0m\u001b[0m\n",
      "\u001b[1;32m~\\Anaconda3\\lib\\site-packages\\urllib3\\connectionpool.py\u001b[0m in \u001b[0;36m_make_request\u001b[1;34m(self, conn, method, url, timeout, chunked, **httplib_request_kw)\u001b[0m\n\u001b[0;32m    381\u001b[0m             \u001b[1;32mexcept\u001b[0m \u001b[0mTypeError\u001b[0m\u001b[1;33m:\u001b[0m  \u001b[1;31m# Python 2.6 and older, Python 3\u001b[0m\u001b[1;33m\u001b[0m\u001b[0m\n\u001b[0;32m    382\u001b[0m                 \u001b[1;32mtry\u001b[0m\u001b[1;33m:\u001b[0m\u001b[1;33m\u001b[0m\u001b[0m\n\u001b[1;32m--> 383\u001b[1;33m                     \u001b[0mhttplib_response\u001b[0m \u001b[1;33m=\u001b[0m \u001b[0mconn\u001b[0m\u001b[1;33m.\u001b[0m\u001b[0mgetresponse\u001b[0m\u001b[1;33m(\u001b[0m\u001b[1;33m)\u001b[0m\u001b[1;33m\u001b[0m\u001b[0m\n\u001b[0m\u001b[0;32m    384\u001b[0m                 \u001b[1;32mexcept\u001b[0m \u001b[0mException\u001b[0m \u001b[1;32mas\u001b[0m \u001b[0me\u001b[0m\u001b[1;33m:\u001b[0m\u001b[1;33m\u001b[0m\u001b[0m\n\u001b[0;32m    385\u001b[0m                     \u001b[1;31m# Remove the TypeError from the exception chain in Python 3;\u001b[0m\u001b[1;33m\u001b[0m\u001b[1;33m\u001b[0m\u001b[0m\n",
      "\u001b[1;32m~\\Anaconda3\\lib\\http\\client.py\u001b[0m in \u001b[0;36mgetresponse\u001b[1;34m(self)\u001b[0m\n\u001b[0;32m   1329\u001b[0m         \u001b[1;32mtry\u001b[0m\u001b[1;33m:\u001b[0m\u001b[1;33m\u001b[0m\u001b[0m\n\u001b[0;32m   1330\u001b[0m             \u001b[1;32mtry\u001b[0m\u001b[1;33m:\u001b[0m\u001b[1;33m\u001b[0m\u001b[0m\n\u001b[1;32m-> 1331\u001b[1;33m                 \u001b[0mresponse\u001b[0m\u001b[1;33m.\u001b[0m\u001b[0mbegin\u001b[0m\u001b[1;33m(\u001b[0m\u001b[1;33m)\u001b[0m\u001b[1;33m\u001b[0m\u001b[0m\n\u001b[0m\u001b[0;32m   1332\u001b[0m             \u001b[1;32mexcept\u001b[0m \u001b[0mConnectionError\u001b[0m\u001b[1;33m:\u001b[0m\u001b[1;33m\u001b[0m\u001b[0m\n\u001b[0;32m   1333\u001b[0m                 \u001b[0mself\u001b[0m\u001b[1;33m.\u001b[0m\u001b[0mclose\u001b[0m\u001b[1;33m(\u001b[0m\u001b[1;33m)\u001b[0m\u001b[1;33m\u001b[0m\u001b[0m\n",
      "\u001b[1;32m~\\Anaconda3\\lib\\http\\client.py\u001b[0m in \u001b[0;36mbegin\u001b[1;34m(self)\u001b[0m\n\u001b[0;32m    295\u001b[0m         \u001b[1;31m# read until we get a non-100 response\u001b[0m\u001b[1;33m\u001b[0m\u001b[1;33m\u001b[0m\u001b[0m\n\u001b[0;32m    296\u001b[0m         \u001b[1;32mwhile\u001b[0m \u001b[1;32mTrue\u001b[0m\u001b[1;33m:\u001b[0m\u001b[1;33m\u001b[0m\u001b[0m\n\u001b[1;32m--> 297\u001b[1;33m             \u001b[0mversion\u001b[0m\u001b[1;33m,\u001b[0m \u001b[0mstatus\u001b[0m\u001b[1;33m,\u001b[0m \u001b[0mreason\u001b[0m \u001b[1;33m=\u001b[0m \u001b[0mself\u001b[0m\u001b[1;33m.\u001b[0m\u001b[0m_read_status\u001b[0m\u001b[1;33m(\u001b[0m\u001b[1;33m)\u001b[0m\u001b[1;33m\u001b[0m\u001b[0m\n\u001b[0m\u001b[0;32m    298\u001b[0m             \u001b[1;32mif\u001b[0m \u001b[0mstatus\u001b[0m \u001b[1;33m!=\u001b[0m \u001b[0mCONTINUE\u001b[0m\u001b[1;33m:\u001b[0m\u001b[1;33m\u001b[0m\u001b[0m\n\u001b[0;32m    299\u001b[0m                 \u001b[1;32mbreak\u001b[0m\u001b[1;33m\u001b[0m\u001b[0m\n",
      "\u001b[1;32m~\\Anaconda3\\lib\\http\\client.py\u001b[0m in \u001b[0;36m_read_status\u001b[1;34m(self)\u001b[0m\n\u001b[0;32m    256\u001b[0m \u001b[1;33m\u001b[0m\u001b[0m\n\u001b[0;32m    257\u001b[0m     \u001b[1;32mdef\u001b[0m \u001b[0m_read_status\u001b[0m\u001b[1;33m(\u001b[0m\u001b[0mself\u001b[0m\u001b[1;33m)\u001b[0m\u001b[1;33m:\u001b[0m\u001b[1;33m\u001b[0m\u001b[0m\n\u001b[1;32m--> 258\u001b[1;33m         \u001b[0mline\u001b[0m \u001b[1;33m=\u001b[0m \u001b[0mstr\u001b[0m\u001b[1;33m(\u001b[0m\u001b[0mself\u001b[0m\u001b[1;33m.\u001b[0m\u001b[0mfp\u001b[0m\u001b[1;33m.\u001b[0m\u001b[0mreadline\u001b[0m\u001b[1;33m(\u001b[0m\u001b[0m_MAXLINE\u001b[0m \u001b[1;33m+\u001b[0m \u001b[1;36m1\u001b[0m\u001b[1;33m)\u001b[0m\u001b[1;33m,\u001b[0m \u001b[1;34m\"iso-8859-1\"\u001b[0m\u001b[1;33m)\u001b[0m\u001b[1;33m\u001b[0m\u001b[0m\n\u001b[0m\u001b[0;32m    259\u001b[0m         \u001b[1;32mif\u001b[0m \u001b[0mlen\u001b[0m\u001b[1;33m(\u001b[0m\u001b[0mline\u001b[0m\u001b[1;33m)\u001b[0m \u001b[1;33m>\u001b[0m \u001b[0m_MAXLINE\u001b[0m\u001b[1;33m:\u001b[0m\u001b[1;33m\u001b[0m\u001b[0m\n\u001b[0;32m    260\u001b[0m             \u001b[1;32mraise\u001b[0m \u001b[0mLineTooLong\u001b[0m\u001b[1;33m(\u001b[0m\u001b[1;34m\"status line\"\u001b[0m\u001b[1;33m)\u001b[0m\u001b[1;33m\u001b[0m\u001b[0m\n",
      "\u001b[1;32m~\\Anaconda3\\lib\\socket.py\u001b[0m in \u001b[0;36mreadinto\u001b[1;34m(self, b)\u001b[0m\n\u001b[0;32m    584\u001b[0m         \u001b[1;32mwhile\u001b[0m \u001b[1;32mTrue\u001b[0m\u001b[1;33m:\u001b[0m\u001b[1;33m\u001b[0m\u001b[0m\n\u001b[0;32m    585\u001b[0m             \u001b[1;32mtry\u001b[0m\u001b[1;33m:\u001b[0m\u001b[1;33m\u001b[0m\u001b[0m\n\u001b[1;32m--> 586\u001b[1;33m                 \u001b[1;32mreturn\u001b[0m \u001b[0mself\u001b[0m\u001b[1;33m.\u001b[0m\u001b[0m_sock\u001b[0m\u001b[1;33m.\u001b[0m\u001b[0mrecv_into\u001b[0m\u001b[1;33m(\u001b[0m\u001b[0mb\u001b[0m\u001b[1;33m)\u001b[0m\u001b[1;33m\u001b[0m\u001b[0m\n\u001b[0m\u001b[0;32m    587\u001b[0m             \u001b[1;32mexcept\u001b[0m \u001b[0mtimeout\u001b[0m\u001b[1;33m:\u001b[0m\u001b[1;33m\u001b[0m\u001b[0m\n\u001b[0;32m    588\u001b[0m                 \u001b[0mself\u001b[0m\u001b[1;33m.\u001b[0m\u001b[0m_timeout_occurred\u001b[0m \u001b[1;33m=\u001b[0m \u001b[1;32mTrue\u001b[0m\u001b[1;33m\u001b[0m\u001b[0m\n",
      "\u001b[1;31mKeyboardInterrupt\u001b[0m: "
     ]
    }
   ],
   "source": [
    "# loop through API requests and parse necessary information\n",
    "\n",
    "# for index, location in brew_two.iterrows():\n",
    "#     response = requests.get(url + mq_key + '&inFormat=kvp&outFormat=json&location=' + location[0]).json()\n",
    "#     try:\n",
    "#         brew_two.loc[index, 'Lat'] = response['results'][0]['locations'][0]['latLng']['lat']\n",
    "#         brew_two.loc[index, 'Lng'] = response['results'][0]['locations'][0]['latLng']['lng']\n",
    "#         brew_two.loc[index, 'Zip Code'] = response['results'][0]['locations'][0]['postalCode']\n",
    "#         brew_two.loc[index, 'County'] = response['results'][0]['locations'][0]['adminArea4']\n",
    "#     except IndexError:\n",
    "#         print(f\"Information missing for \", location[0])\n",
    "#         print(f\"-------------------------------------\")\n",
    "#         pass"
   ]
  },
  {
   "cell_type": "code",
   "execution_count": 36,
   "metadata": {},
   "outputs": [],
   "source": [
    "# missing = brew_two.loc[brew_two['Lat'].str.len() < 2]\n",
    "# print(missing)"
   ]
  },
  {
   "cell_type": "markdown",
   "metadata": {},
   "source": [
    "## Add everything to a plot to visualize Brewery locations in USA"
   ]
  },
  {
   "cell_type": "code",
   "execution_count": 37,
   "metadata": {},
   "outputs": [],
   "source": [
    "import plotly.plotly as py\n",
    "import plotly.figure_factory as ff\n",
    "import plotly.graph_objs as go\n",
    "import plotly\n",
    "\n",
    "plotly.tools.set_credentials_file(username='lamatinal', api_key='VPcrievjz9SJhSSmE5t4')\n",
    "mapbox_access_token = 'pk.eyJ1IjoibGFtYXRpbmFsIiwiYSI6ImNqa3BxMHk2aDFnbjEzcHA4M3Nhb2Z5N2cifQ.04a2NTZHdUn_KjhPo59zfw'"
   ]
  },
  {
   "cell_type": "code",
   "execution_count": 53,
   "metadata": {},
   "outputs": [
    {
     "data": {
      "text/html": [
       "<iframe id=\"igraph\" scrolling=\"no\" style=\"border:none;\" seamless=\"seamless\" src=\"https://plot.ly/~lamatinal/2.embed\" height=\"525px\" width=\"100%\"></iframe>"
      ],
      "text/plain": [
       "<plotly.tools.PlotlyDisplay object>"
      ]
     },
     "execution_count": 53,
     "metadata": {},
     "output_type": "execute_result"
    }
   ],
   "source": [
    "data = [go.Scattermapbox(lat=brew_two['Lat'], \n",
    "                         lon=brew_two['Lng'], \n",
    "                         mode='markers',\n",
    "                         text=brew_two['Brewery'],\n",
    "                         marker=dict(\n",
    "                            size=5,\n",
    "                            color='rgb(0, 0, 128)',\n",
    "                            opacity=0.5)\n",
    "                        )\n",
    "       ]\n",
    "\n",
    "layout = go.Layout(title='Craft Brewery Locations in the USA', \n",
    "                   autosize=True, \n",
    "                   hovermode='closest', \n",
    "                   showlegend=False,\n",
    "                   mapbox=dict(accesstoken=mapbox_access_token, bearing=0, center=dict(lat=38, lon=-94),\n",
    "                    pitch=0,\n",
    "                    zoom=3,\n",
    "                    style='light')\n",
    "                  )\n",
    "\n",
    "fig = dict(data=data, layout=layout)\n",
    "py.iplot(fig, filename='Brewery Locations USA')"
   ]
  },
  {
   "cell_type": "code",
   "execution_count": null,
   "metadata": {},
   "outputs": [],
   "source": []
  },
  {
   "cell_type": "code",
   "execution_count": null,
   "metadata": {},
   "outputs": [],
   "source": [
    "texas = brew_two[brew_two['State'] == 'Texas']\n",
    "\n",
    "data = [go.Scattermapbox(lat=texas['Lat'], \n",
    "                         lon=texas['Lng'], \n",
    "                         mode='markers',\n",
    "                         text=False,\n",
    "                         marker=dict(size=5)\n",
    "                        )\n",
    "       ]\n",
    "\n",
    "layout = go.Layout(title='Craft Brewery Locations in the USA', \n",
    "                   autosize=True, \n",
    "                   hovermode='closest', \n",
    "                   showlegend=False,\n",
    "                   mapbox=dict(accesstoken=mapbox_access_token, bearing=0, center=dict(lat=38, lon=-94),\n",
    "                    pitch=0,\n",
    "                    zoom=3,\n",
    "                    style='light')\n",
    "                  )\n",
    "\n",
    "fig = dict(data=data, layout=layout)\n",
    "py.iplot(fig, filename='Brewery Locations USA')"
   ]
  },
  {
   "cell_type": "code",
   "execution_count": null,
   "metadata": {},
   "outputs": [],
   "source": []
  }
 ],
 "metadata": {
  "kernelspec": {
   "display_name": "Python 3",
   "language": "python",
   "name": "python3"
  },
  "language_info": {
   "codemirror_mode": {
    "name": "ipython",
    "version": 3
   },
   "file_extension": ".py",
   "mimetype": "text/x-python",
   "name": "python",
   "nbconvert_exporter": "python",
   "pygments_lexer": "ipython3",
   "version": "3.6.4"
  }
 },
 "nbformat": 4,
 "nbformat_minor": 2
}
