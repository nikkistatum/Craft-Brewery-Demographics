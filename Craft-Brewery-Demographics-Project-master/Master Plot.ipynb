{
 "cells": [
  {
   "cell_type": "markdown",
   "metadata": {},
   "source": [
    "## Map of Grocery Stores and Breweries"
   ]
  },
  {
   "cell_type": "code",
   "execution_count": 3,
   "metadata": {},
   "outputs": [],
   "source": [
    "import csv, requests, json, time, plotly\n",
    "import pandas as pd\n",
    "import matplotlib.pyplot as plt\n",
    "import numpy as np\n",
    "import plotly.plotly as py\n",
    "import plotly.figure_factory as ff\n",
    "import plotly.graph_objs as go\n",
    "\n",
    "plotly.tools.set_credentials_file(username='lamatinal', api_key='VPcrievjz9SJhSSmE5t4')\n",
    "mapbox_access_token = 'pk.eyJ1IjoibGFtYXRpbmFsIiwiYSI6ImNqa3BxMHk2aDFnbjEzcHA4M3Nhb2Z5N2cifQ.04a2NTZHdUn_KjhPo59zfw'"
   ]
  },
  {
   "cell_type": "markdown",
   "metadata": {},
   "source": [
    "## Import all CSV files created in other spreadsheets"
   ]
  },
  {
   "cell_type": "code",
   "execution_count": 10,
   "metadata": {},
   "outputs": [
    {
     "data": {
      "text/html": [
       "<div>\n",
       "<style scoped>\n",
       "    .dataframe tbody tr th:only-of-type {\n",
       "        vertical-align: middle;\n",
       "    }\n",
       "\n",
       "    .dataframe tbody tr th {\n",
       "        vertical-align: top;\n",
       "    }\n",
       "\n",
       "    .dataframe thead th {\n",
       "        text-align: right;\n",
       "    }\n",
       "</style>\n",
       "<table border=\"1\" class=\"dataframe\">\n",
       "  <thead>\n",
       "    <tr style=\"text-align: right;\">\n",
       "      <th></th>\n",
       "      <th>Unnamed: 0</th>\n",
       "      <th>Brewery</th>\n",
       "      <th>County</th>\n",
       "      <th>Full Address</th>\n",
       "      <th>Lat</th>\n",
       "      <th>Lng</th>\n",
       "      <th>State</th>\n",
       "      <th>Zip Code</th>\n",
       "    </tr>\n",
       "  </thead>\n",
       "  <tbody>\n",
       "    <tr>\n",
       "      <th>0</th>\n",
       "      <td>0</td>\n",
       "      <td>(512) Brewing Co</td>\n",
       "      <td>Travis</td>\n",
       "      <td>407 Radam Ln, Austin TX</td>\n",
       "      <td>30.223586</td>\n",
       "      <td>-97.769438</td>\n",
       "      <td>TX</td>\n",
       "      <td>78745-1113</td>\n",
       "    </tr>\n",
       "    <tr>\n",
       "      <th>1</th>\n",
       "      <td>1</td>\n",
       "      <td>10 Barrel Brewing Company, 10 Barrel Brewing Co</td>\n",
       "      <td>Deschutes</td>\n",
       "      <td>1135 N W Galveston Ave, Bend OR</td>\n",
       "      <td>44.056624</td>\n",
       "      <td>-121.328514</td>\n",
       "      <td>OR</td>\n",
       "      <td>97703-2431</td>\n",
       "    </tr>\n",
       "    <tr>\n",
       "      <th>2</th>\n",
       "      <td>2</td>\n",
       "      <td>10 Barrel Brewing, 10 Barrel Brewing Co.</td>\n",
       "      <td>Ada</td>\n",
       "      <td>830 W Bannock St, Boise ID</td>\n",
       "      <td>43.617361</td>\n",
       "      <td>-116.202370</td>\n",
       "      <td>ID</td>\n",
       "      <td>83702-5857</td>\n",
       "    </tr>\n",
       "  </tbody>\n",
       "</table>\n",
       "</div>"
      ],
      "text/plain": [
       "   Unnamed: 0                                          Brewery     County  \\\n",
       "0           0                                 (512) Brewing Co     Travis   \n",
       "1           1  10 Barrel Brewing Company, 10 Barrel Brewing Co  Deschutes   \n",
       "2           2         10 Barrel Brewing, 10 Barrel Brewing Co.        Ada   \n",
       "\n",
       "                      Full Address        Lat         Lng State    Zip Code  \n",
       "0          407 Radam Ln, Austin TX  30.223586  -97.769438    TX  78745-1113  \n",
       "1  1135 N W Galveston Ave, Bend OR  44.056624 -121.328514    OR  97703-2431  \n",
       "2       830 W Bannock St, Boise ID  43.617361 -116.202370    ID  83702-5857  "
      ]
     },
     "execution_count": 10,
     "metadata": {},
     "output_type": "execute_result"
    }
   ],
   "source": [
    "brew_raw = 'C:/Users/leala/Documents/Project 1/BrewPub Repo/Craft Brewery Demographics Project/breweries.csv'\n",
    "groc_raw = 'C:/Users/leala/Documents/Project 1/BrewPub Repo/Craft Brewery Demographics Project/texas_groceries.csv'\n",
    "\n",
    "breweries = pd.read_csv(brew_raw)\n",
    "groceries = pd.read_csv(groc_raw)\n",
    "\n",
    "breweries.head(3)\n",
    "# groceries.head(3)"
   ]
  },
  {
   "cell_type": "markdown",
   "metadata": {},
   "source": [
    "## Create plot that contains both the Grocery and Brewery data"
   ]
  },
  {
   "cell_type": "code",
   "execution_count": 12,
   "metadata": {},
   "outputs": [
    {
     "data": {
      "text/html": [
       "<iframe id=\"igraph\" scrolling=\"no\" style=\"border:none;\" seamless=\"seamless\" src=\"https://plot.ly/~lamatinal/8.embed\" height=\"525px\" width=\"100%\"></iframe>"
      ],
      "text/plain": [
       "<plotly.tools.PlotlyDisplay object>"
      ]
     },
     "execution_count": 12,
     "metadata": {},
     "output_type": "execute_result"
    }
   ],
   "source": [
    "master = [go.Scattermapbox(\n",
    "            lat=groceries['San An Lat'], \n",
    "            lon=groceries['San An Lng'],\n",
    "            mode='markers',\n",
    "            text=False,\n",
    "            marker=dict(\n",
    "                size=5,\n",
    "                color='rgb(255, 165, 0)',\n",
    "                opacity=0.5)\n",
    "            ),\n",
    "        go.Scattermapbox(lat=groceries['Houston Lat'],\n",
    "            lon=groceries['Houston Lng'],\n",
    "            mode='markers',\n",
    "            text=False,\n",
    "            marker=dict(\n",
    "                size=5,\n",
    "                color='rgb(220, 105, 0)',\n",
    "                opacity=0.5)\n",
    "            ),\n",
    "         go.Scattermapbox(lat=breweries['Lat'], \n",
    "            lon=breweries['Lng'], \n",
    "            mode='markers',\n",
    "            text=breweries['Brewery'],\n",
    "            marker=dict(\n",
    "                size=8,\n",
    "                color='rgb(0, 0, 128)',\n",
    "                opacity=0.5)\n",
    "            )\n",
    "       ]\n",
    "\n",
    "layout = go.Layout(title='Comparison of All Data', \n",
    "                   autosize=True, \n",
    "                   hovermode='closest', \n",
    "                   showlegend=False,\n",
    "                   mapbox=dict(accesstoken=mapbox_access_token, bearing=0, center=dict(lat=29.4, lon=-96.7),\n",
    "                   pitch=0,\n",
    "                   zoom=7,\n",
    "                   style='light')\n",
    "                   )\n",
    "\n",
    "fig = dict(data=master, layout=layout)\n",
    "py.iplot(fig, filename='master_plot')"
   ]
  },
  {
   "cell_type": "code",
   "execution_count": null,
   "metadata": {},
   "outputs": [],
   "source": []
  }
 ],
 "metadata": {
  "kernelspec": {
   "display_name": "Python 3",
   "language": "python",
   "name": "python3"
  },
  "language_info": {
   "codemirror_mode": {
    "name": "ipython",
    "version": 3
   },
   "file_extension": ".py",
   "mimetype": "text/x-python",
   "name": "python",
   "nbconvert_exporter": "python",
   "pygments_lexer": "ipython3",
   "version": "3.6.4"
  }
 },
 "nbformat": 4,
 "nbformat_minor": 2
}
